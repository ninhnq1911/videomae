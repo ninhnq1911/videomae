{
 "cells": [
  {
   "cell_type": "markdown",
   "metadata": {},
   "source": [
    "#Ahihiiii"
   ]
  },
  {
   "cell_type": "code",
   "execution_count": 3,
   "metadata": {},
   "outputs": [],
   "source": [
    "%load_ext autoreload\n",
    "%autoreload 2"
   ]
  },
  {
   "cell_type": "code",
   "execution_count": 2,
   "metadata": {},
   "outputs": [
    {
     "data": {
      "application/vnd.jupyter.widget-view+json": {
       "model_id": "33522162c6b94362af839a662dde6683",
       "version_major": 2,
       "version_minor": 0
      },
      "text/plain": [
       "VBox(children=(HTML(value='<center> <img\\nsrc=https://huggingface.co/front/assets/huggingface_logo-noborder.sv…"
      ]
     },
     "metadata": {},
     "output_type": "display_data"
    }
   ],
   "source": [
    "from huggingface_hub import notebook_login\n",
    "\n",
    "notebook_login()"
   ]
  },
  {
   "cell_type": "code",
   "execution_count": null,
   "metadata": {},
   "outputs": [],
   "source": [
    "!python -m pip install -r requirements.txt\n",
    "!python -m pip install -e script/mltools"
   ]
  },
  {
   "cell_type": "code",
   "execution_count": 4,
   "metadata": {},
   "outputs": [
    {
     "name": "stdout",
     "output_type": "stream",
     "text": [
      "C:\\Users\\ninhn\\.cache\\huggingface\\hub\\datasets--sayakpaul--ucf101-subset\\snapshots\\b9984b8d2a95e4a1879e1b071e9433858d0bc24a\\UCF101_subset.tar.gz\n"
     ]
    },
    {
     "data": {
      "text/plain": [
       "'DATA/VIDEOMAE/UCF101_subset.tar.gz'"
      ]
     },
     "execution_count": 4,
     "metadata": {},
     "output_type": "execute_result"
    }
   ],
   "source": [
    "import shutil\n",
    "from mltools.file_util import get_resource\n",
    "from huggingface_hub import hf_hub_download\n",
    "\n",
    "\n",
    "hf_dataset_identifier = \"sayakpaul/ucf101-subset\"\n",
    "filename = \"UCF101_subset.tar.gz\"\n",
    "file_path = hf_hub_download(\n",
    "    repo_id=hf_dataset_identifier, filename=filename, repo_type=\"dataset\"\n",
    ")\n",
    "print(file_path)\n",
    "shutil.copy(file_path, get_resource(\"UCF101_subset.tar.gz\"))"
   ]
  },
  {
   "cell_type": "code",
   "execution_count": 7,
   "metadata": {},
   "outputs": [],
   "source": [
    "import tarfile\n",
    "\n",
    "tarfile.open(get_resource(\"UCF101_subset.tar.gz\")).extractall(get_resource(\"UCF101_subset\"), filter='data')"
   ]
  },
  {
   "cell_type": "code",
   "execution_count": 23,
   "metadata": {},
   "outputs": [
    {
     "name": "stdout",
     "output_type": "stream",
     "text": [
      "Total classes:  10\n",
      "class:  ['ApplyEyeMakeup', 'ApplyLipstick', 'Archery', 'BabyCrawling', 'BalanceBeam', 'BandMarching', 'BaseballPitch', 'Basketball', 'BasketballDunk', 'BenchPress']\n",
      "test: 75\n",
      "train: 300\n",
      "val: 30\n"
     ]
    }
   ],
   "source": [
    "import os\n",
    "from mltools.file_util import count_files, get_subfolders, get_resource\n",
    "\n",
    "\n",
    "def ucf101_subset_info(root_dir: str) -> None:\n",
    "    subset = get_subfolders(root_dir)\n",
    "    cls_name = get_subfolders(os.path.join(root_dir, subset[0]))\n",
    "    print(\"Total classes: \", len(cls_name))\n",
    "    print(\"class: \", cls_name)\n",
    "    for folder in subset:\n",
    "        print(f\"{folder}: {count_files(os.path.join(root_dir, folder), \"avi\")}\")\n",
    "        \n",
    "ucf101_subset_info(get_resource(\"UCF101_subset/UCF101_subset\"))"
   ]
  },
  {
   "cell_type": "code",
   "execution_count": null,
   "metadata": {},
   "outputs": [],
   "source": []
  }
 ],
 "metadata": {
  "kernelspec": {
   "display_name": ".env",
   "language": "python",
   "name": "python3"
  },
  "language_info": {
   "codemirror_mode": {
    "name": "ipython",
    "version": 3
   },
   "file_extension": ".py",
   "mimetype": "text/x-python",
   "name": "python",
   "nbconvert_exporter": "python",
   "pygments_lexer": "ipython3",
   "version": "3.12.2"
  }
 },
 "nbformat": 4,
 "nbformat_minor": 2
}
